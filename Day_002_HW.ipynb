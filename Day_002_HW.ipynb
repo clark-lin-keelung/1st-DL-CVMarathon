{
 "cells": [
  {
   "cell_type": "markdown",
   "metadata": {},
   "source": [
    "### 請找出一個你認為機器學習可以發光發熱的領域並闡述原因?"
   ]
  },
  {
   "cell_type": "markdown",
   "metadata": {},
   "source": [
    "醫療產業是機器學習可以發揮的領域，尤其是醫學診斷上，許多的病兆，透過機器學習，可以協助判斷，避免誤診情況發生，在醫療人力吃緊的情況下，透過機器學習的輔助，可以協助初步疾病判別，甚至可以減少醫療疏失，不論是影像醫學，其他生理徵兆的整合與判斷，都可以是醫師最佳的協助"
   ]
  },
  {
   "cell_type": "code",
   "execution_count": null,
   "metadata": {},
   "outputs": [],
   "source": []
  }
 ],
 "metadata": {
  "kernelspec": {
   "display_name": "Python 3",
   "language": "python",
   "name": "python3"
  },
  "language_info": {
   "codemirror_mode": {
    "name": "ipython",
    "version": 3
   },
   "file_extension": ".py",
   "mimetype": "text/x-python",
   "name": "python",
   "nbconvert_exporter": "python",
   "pygments_lexer": "ipython3",
   "version": "3.7.3"
  }
 },
 "nbformat": 4,
 "nbformat_minor": 2
}
