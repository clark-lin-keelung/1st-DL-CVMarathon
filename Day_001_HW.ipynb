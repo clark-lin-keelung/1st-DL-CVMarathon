{
 "cells": [
  {
   "cell_type": "markdown",
   "metadata": {},
   "source": [
    "### 作業一"
   ]
  },
  {
   "cell_type": "code",
   "execution_count": 1,
   "metadata": {},
   "outputs": [],
   "source": [
    "import numpy as np\n",
    "def mean_square_error(y,yp):\n",
    "    mse=np.mean((y - yp)**2)\n",
    "    print('MSE:',mse)"
   ]
  },
  {
   "cell_type": "code",
   "execution_count": 2,
   "metadata": {},
   "outputs": [
    {
     "name": "stdout",
     "output_type": "stream",
     "text": [
      "y_real:12\n",
      "y_pred:13\n",
      "MSE: 1.0\n"
     ]
    }
   ],
   "source": [
    "y=int(input(\"y_real:\"))\n",
    "yp=int(input('y_pred:'))\n",
    "mean_square_error(y,yp)"
   ]
  },
  {
   "cell_type": "markdown",
   "metadata": {},
   "source": [
    "### 作業二"
   ]
  },
  {
   "cell_type": "markdown",
   "metadata": {},
   "source": [
    "#### 你選的這組資料為何重要\n",
    "Covid-19在2020年起影響全球，對人類生活產生巨大影響，如果能在疫苗研發、防疫政策提供更好的策略，將可造福人類，對抗病毒\n",
    "\n",
    "#### 資料從何而來 (tips: 譬如提供者是誰、以什麼方式蒐集)\n",
    "White House and a coalition of leading research groups，美國ＣＤＣ\n",
    "\n",
    "#### 蒐集而來的資料型態為何\n",
    "json, csv\n",
    "\n",
    "#### 這組資料想解決的問題如何評估\n",
    "該組資料共計十八項任務\n",
    "基本上以準確性、方法學上是否有根據、是否能有效說明發現以及是否能視覺畫呈現結果"
   ]
  },
  {
   "cell_type": "markdown",
   "metadata": {},
   "source": [
    "### 作業三"
   ]
  },
  {
   "cell_type": "markdown",
   "metadata": {},
   "source": [
    "#### 想像你經營一個自由載客車隊，你希望能透過數據分析以提升業績，請你思考並描述你如何規劃整體的分析/解決方案：\n",
    "1.透過車隊基本資料與各項載客資訊，以及顧客評價，了解各項資料對乘客乘車經驗的影響。\n",
    "2.熟知車輛或駕駛等相關資訊後，對於個別顧客喜好能有專屬派車方式，以此提高顧客忠誠度\n",
    "\n",
    "#### 核心問題為何 (tips：如何定義 「提升業績 & 你的假設」)\n",
    "1.業績來自顧客喜好，因此顧客意見回饋非常重要，以此作基本分析了解顧客忠誠度影響因素\n",
    "2.顧客乘車經驗將影響下次乘車意願\n",
    "\n",
    "#### 資料從何而來 (tips：哪些資料可能會對你想問的問題產生影響 & 資料如何蒐集)\n",
    "1.網路聲量評價\n",
    "2.抽樣電訪\n",
    "\n",
    "#### 蒐集而來的資料型態為何\n",
    "網頁、excel\n",
    "\n",
    "#### 你要回答的問題，其如何評估 (tips：你的假設如何驗證)\n",
    "1.網路聲量及評價以語詞的正向與負向代表評價好壞，將評價分類，以了解問題所在\n",
    "2.了解顧客問題，改善乘車體驗後再度評估\n",
    "3.將評價與司機資料連結，了解個別司機狀況，淘汰不良司機或協助改善"
   ]
  },
  {
   "cell_type": "code",
   "execution_count": null,
   "metadata": {},
   "outputs": [],
   "source": []
  }
 ],
 "metadata": {
  "kernelspec": {
   "display_name": "Python 3",
   "language": "python",
   "name": "python3"
  },
  "language_info": {
   "codemirror_mode": {
    "name": "ipython",
    "version": 3
   },
   "file_extension": ".py",
   "mimetype": "text/x-python",
   "name": "python",
   "nbconvert_exporter": "python",
   "pygments_lexer": "ipython3",
   "version": "3.7.3"
  }
 },
 "nbformat": 4,
 "nbformat_minor": 2
}
